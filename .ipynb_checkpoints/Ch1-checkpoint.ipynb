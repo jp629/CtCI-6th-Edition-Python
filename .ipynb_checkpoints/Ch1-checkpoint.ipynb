{
 "cells": [
  {
   "cell_type": "markdown",
   "metadata": {},
   "source": [
    "1.1 Is Unique: Implement an algorithm to determine if a string has all unique characters. What if you\n",
    "cannot use additional data structures?"
   ]
  },
  {
   "cell_type": "code",
   "execution_count": 19,
   "metadata": {},
   "outputs": [
    {
     "data": {
      "text/plain": [
       "True"
      ]
     },
     "execution_count": 19,
     "metadata": {},
     "output_type": "execute_result"
    }
   ],
   "source": [
    "def isUnique(str):\n",
    "    exist = [False]*256\n",
    "    for i,c in enumerate(str):\n",
    "        if exist[ord(c)]:\n",
    "            return True\n",
    "        else:\n",
    "            exist[ord(c)] = True\n",
    "    return False\n",
    "isUnique(\"aabc\")\n",
    "\n",
    "'''\n",
    "Note:\n",
    "ord(x) converts str x to ascii int value\n",
    "'''\n",
    "\n",
    "def isUnique2(str):\n",
    "    for i,c1 in enumerate(str):\n",
    "        for _,c2 in enumerate(str[i+1:]):\n",
    "            if c1==c2:\n",
    "                return True\n",
    "    return False\n",
    "isUnique2(\"abcc\")"
   ]
  },
  {
   "cell_type": "markdown",
   "metadata": {},
   "source": [
    "1.2 Check Permutation: Given two strings, write a method to decide if one is a permutation of the other."
   ]
  },
  {
   "cell_type": "code",
   "execution_count": 28,
   "metadata": {},
   "outputs": [
    {
     "data": {
      "text/plain": [
       "True"
      ]
     },
     "execution_count": 28,
     "metadata": {},
     "output_type": "execute_result"
    }
   ],
   "source": [
    "def checkPerm(str1, str2):\n",
    "    if len(str1) != len(str2): return False\n",
    "    cnt1, cnt2 = [0]*256, [0]*256\n",
    "    for _,(c1,c2) in enumerate(zip(str1,str2)):\n",
    "        cnt1[ord(c1)] += 1\n",
    "        cnt2[ord(c2)] += 1\n",
    "    return cnt1==cnt2\n",
    "\n",
    "checkPerm(\"abracdabra\",\"bracdaarba\")\n",
    "        "
   ]
  },
  {
   "cell_type": "raw",
   "metadata": {},
   "source": [
    "1.3 URLify: Write a method to replace all spaces in a string with '%20: You may assume that the string\n",
    "has sufficient space at the end to hold the additional characters, and that you are given the \"true\"\n",
    "length of the string. (Note: If implementing in Java, please use a character array so that you can\n",
    "perform this operation in place.)\n",
    "\n",
    "EXAMPLE\n",
    "Input: \"Mr John Smith       \", 13\n",
    "Output: \"Mr%20John%20Smith\""
   ]
  },
  {
   "cell_type": "code",
   "execution_count": 31,
   "metadata": {},
   "outputs": [
    {
     "data": {
      "text/plain": [
       "'Mr%20John%20Smith'"
      ]
     },
     "execution_count": 31,
     "metadata": {},
     "output_type": "execute_result"
    }
   ],
   "source": [
    "def URLify(str, length):\n",
    "    output = \"\"\n",
    "    for i,c in enumerate(str):\n",
    "        if i>=length: break\n",
    "        if c==\" \":\n",
    "            output += \"%20\"\n",
    "        else:\n",
    "            output += c\n",
    "    return output\n",
    "\n",
    "URLify(\"Mr John Smith         \", 13)"
   ]
  },
  {
   "cell_type": "raw",
   "metadata": {},
   "source": [
    "1.4 Palindrome Permutation: Given a string, write a function to check if it is a permutation of a palindrome.\n",
    "A palindrome is a word or phrase that is the same forwards and backwards. A permutation\n",
    "is a reararngement of letters. The palindrome does not need to be limited to just dictionary words.\n",
    "EXAMPLE\n",
    "Input: Tact Coa\n",
    "Output: True (permutations: \"taco cat\". \"atco cta\". etc.)\n",
    "Hints: #106, #121, #134, #136"
   ]
  },
  {
   "cell_type": "code",
   "execution_count": 8,
   "metadata": {},
   "outputs": [
    {
     "data": {
      "text/plain": [
       "True"
      ]
     },
     "execution_count": 8,
     "metadata": {},
     "output_type": "execute_result"
    }
   ],
   "source": [
    "def palPerm(str):\n",
    "    str = (str.replace(' ','')).lower() #sentence.strip()-> leading&trailing only, \" \".join(sentence.split()) -> duplicated space only\n",
    "    bin = [0]*256\n",
    "    for i, c in enumerate(str):\n",
    "        bin[ord(c)] = (bin[ord(c)]+1)%2\n",
    "    cnt = 0\n",
    "    for _, odd in enumerate(bin):\n",
    "        cnt += odd\n",
    "        if cnt > 1: return False\n",
    "    return True\n",
    "palPerm(\"Tact Coa\")  "
   ]
  },
  {
   "cell_type": "raw",
   "metadata": {},
   "source": [
    "1.5 One Away: There are three types of edits that can be performed on strings: insert a character,\n",
    "remove a character, or replace a character. Given two strings, write a function to check if they are\n",
    "one edit (or zero edits) away.\n",
    "EXAMPLE\n",
    "pale, ple -> true\n",
    "pales, pale -> true\n",
    "pale, bale -> true\n",
    "pale, bake -> false\n",
    "Hints:#23, #97, #130"
   ]
  },
  {
   "cell_type": "code",
   "execution_count": null,
   "metadata": {},
   "outputs": [],
   "source": [
    "def oneAway(str1, str2):\n",
    "    len1,len2 = len(str1),len(str2)\n",
    "    if abs(len1-len2)>1: return False\n",
    "    diff = 0\n",
    "    for i,(c1,c2) in enumerate(zip(str1,str2)):\n",
    "        if diff > 1: return False\n",
    "        \n",
    "        \n",
    "        \n",
    "    "
   ]
  },
  {
   "cell_type": "raw",
   "metadata": {},
   "source": [
    "1.6 String Compression: Implement a method to perform basic string compression using the counts\n",
    "of repeated characters. For example, the string aabcccccaaa would become a2blc5a3. If the\n",
    "\"compressed\" string would not become smaller than the original string, your method should return\n",
    "the original string. You can assume the string has only uppercase and lowercase letters (a - z).\n",
    "Hints:#92, #110"
   ]
  },
  {
   "cell_type": "code",
   "execution_count": null,
   "metadata": {},
   "outputs": [],
   "source": []
  },
  {
   "cell_type": "raw",
   "metadata": {},
   "source": [
    "1.7 Rotate Matrix: Given an image represented by an NxN matrix, where each pixel in the image is 4\n",
    "bytes, write a method to rotate the image by 90 degrees. Can you do this in place?\n",
    "Hints: #51, # 100"
   ]
  },
  {
   "cell_type": "code",
   "execution_count": null,
   "metadata": {},
   "outputs": [],
   "source": []
  },
  {
   "cell_type": "raw",
   "metadata": {},
   "source": [
    "1.8 Zero Matrix: Write an algorithm such that if an element in an MxN matrix is 0, its entire row and\n",
    "column are set to 0.\n",
    "Hints:#17, #74, #702"
   ]
  },
  {
   "cell_type": "code",
   "execution_count": null,
   "metadata": {},
   "outputs": [],
   "source": []
  },
  {
   "cell_type": "raw",
   "metadata": {},
   "source": [
    "1.9 String Rotation:Assumeyou have a method isSubstringwhich checks if one word is a substring\n",
    "of another. Given two strings, sl and s2, write code to check if s2 is a rotation of sl using only one\n",
    "call to isSubstring (e.g., \"waterbottle\" is a rotation of\"erbottlewat\").\n",
    "Hints: #34, #88, # 7 04"
   ]
  },
  {
   "cell_type": "code",
   "execution_count": null,
   "metadata": {},
   "outputs": [],
   "source": []
  },
  {
   "cell_type": "raw",
   "metadata": {},
   "source": [
    "Additional Questions: Object-Oriented Design (#7.12). Recursion (#8.3), Sorting and Searching (#10.9), C++\n",
    "(#12.11 ), Moderate Problems (#16.8, #16.17, #16.22), Hard Problems (#17.4, #17.7, #17.13, #17.22, #17.26).\n",
    "Hints start on page 653."
   ]
  }
 ],
 "metadata": {
  "kernelspec": {
   "display_name": "Python 3",
   "language": "python",
   "name": "python3"
  },
  "language_info": {
   "codemirror_mode": {
    "name": "ipython",
    "version": 3
   },
   "file_extension": ".py",
   "mimetype": "text/x-python",
   "name": "python",
   "nbconvert_exporter": "python",
   "pygments_lexer": "ipython3",
   "version": "3.6.5"
  }
 },
 "nbformat": 4,
 "nbformat_minor": 2
}
