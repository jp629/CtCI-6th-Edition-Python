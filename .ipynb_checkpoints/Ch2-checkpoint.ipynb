{
 "cells": [
  {
   "cell_type": "raw",
   "metadata": {},
   "source": [
    "2.1 Remove Dups: Write code to remove duplicates from an unsorted linked list.\n",
    "FOLLOW UP\n",
    "How would you solve this problem if a temporary buffer is not allowed?\n",
    "Hints: #9, #40"
   ]
  },
  {
   "cell_type": "code",
   "execution_count": null,
   "metadata": {},
   "outputs": [],
   "source": []
  },
  {
   "cell_type": "raw",
   "metadata": {},
   "source": [
    "2.2 Return Kth to Last: Implement an algorithm to find the kth to last element of a singly linked list.\n",
    "Hints:#8, #25, #41, #67, #126"
   ]
  },
  {
   "cell_type": "code",
   "execution_count": null,
   "metadata": {},
   "outputs": [],
   "source": []
  },
  {
   "cell_type": "raw",
   "metadata": {},
   "source": [
    "2.3 Delete Middle Node: Implement an algorithm to delete a node in the middle (i.e., any node but\n",
    "the first and last node, not necessarily the exact middle) of a singly linked list, given only access to\n",
    "that node.\n",
    "EXAMPLE\n",
    "lnput:the node c from the linked lista->b->c->d->e->f\n",
    "Result: nothing is returned, but the new linked list looks like a->b->d->e- >f\n",
    "Hints:#72"
   ]
  },
  {
   "cell_type": "code",
   "execution_count": null,
   "metadata": {},
   "outputs": [],
   "source": []
  },
  {
   "cell_type": "raw",
   "metadata": {},
   "source": [
    "2.4 Partition: Write code to partition a linked list around a value x, such that all nodes less than x come\n",
    "before all nodes greater than or equal to x. If x is contained within the list, the values of x only need\n",
    "to be after the elements less than x (see below). The partition element x can appear anywhere in the\n",
    "\"right partition\"; it does not need to appear between the left and right partitions.\n",
    "EXAMPLE\n",
    "Input:\n",
    "Output:\n",
    "3 -> 5 -> 8 -> 5 -> 10 -> 2 -> 1 [partition= 5]\n",
    "3 -> 1 -> 2 -> 10 -> 5 -> 5 -> 8\n",
    "Hints: #3, #24"
   ]
  },
  {
   "cell_type": "code",
   "execution_count": null,
   "metadata": {},
   "outputs": [],
   "source": []
  },
  {
   "cell_type": "raw",
   "metadata": {},
   "source": [
    "2.5 Sum Lists: You have two numbers represented by a linked list, where each node contains a single\n",
    "digit. The digits are stored in reverse order, such that the 1 's digit is at the head of the list. Write a\n",
    "function that adds the two numbers and returns the sum as a linked list.\n",
    "EXAMPLE\n",
    "Input: (7-> 1 -> 6) + (5 -> 9 -> 2).That is,617 + 295.\n",
    "Output: 2 -> 1 -> 9. That is, 912.\n",
    "FOLLOW UP\n",
    "Suppose the digits are stored in forward order. Repeat the above problem.\n",
    "EXAMPLE\n",
    "lnput:(6 -> 1 -> 7) + (2 -> 9 -> 5).That is,617 + 295.\n",
    "Output: 9 - > 1 -> 2. That is, 912.\n",
    "Hints: #7, #30, #71, #95, #109"
   ]
  },
  {
   "cell_type": "code",
   "execution_count": null,
   "metadata": {},
   "outputs": [],
   "source": []
  },
  {
   "cell_type": "raw",
   "metadata": {},
   "source": [
    "2.6 Palindrome: Implement a function to check if a linked list is a palindrome.\n",
    "Hints:#5, #13, #29, #61, #101"
   ]
  },
  {
   "cell_type": "code",
   "execution_count": null,
   "metadata": {},
   "outputs": [],
   "source": []
  },
  {
   "cell_type": "raw",
   "metadata": {},
   "source": [
    "2.7 Intersection: Given two (singly) linked lists, determine if the two lists intersect. Return the intersecting\n",
    "node. Note that the intersection is defined based on reference, not value. That is, if the kth\n",
    "node of the first linked list is the exact same node (by reference) as the jth node of the second\n",
    "linked list, then they are intersecting.\n",
    "Hints:#20, #45, #55, #65, #76, #93, #111, #120, #129"
   ]
  },
  {
   "cell_type": "code",
   "execution_count": null,
   "metadata": {},
   "outputs": [],
   "source": []
  },
  {
   "cell_type": "raw",
   "metadata": {},
   "source": [
    "2.8 Loop Detection: Given a circular linked list, implement an algorithm that returns the node at the\n",
    "beginning of the loop.\n",
    "DEFINITION\n",
    "Circular linked list: A (corrupt) linked list in which a node's next pointer points to an earlier node, so\n",
    "as to make a loop in the linked list.\n",
    "EXAMPLE\n",
    "Input: A -> B -> C - > D -> E -> C [the same C as earlier]\n",
    "Output: C\n",
    "Hints: #50, #69, #83, #90"
   ]
  },
  {
   "cell_type": "code",
   "execution_count": null,
   "metadata": {},
   "outputs": [],
   "source": []
  },
  {
   "cell_type": "raw",
   "metadata": {},
   "source": [
    "Additional Questions: Trees and Graphs (#4.3), Object-Oriented Design (#7.12), System Design and Scalability\n",
    "(#9.5), Moderate Problems (#16.25), Hard Problems (#17.12).\n",
    "Hints start on page 653."
   ]
  }
 ],
 "metadata": {
  "kernelspec": {
   "display_name": "Python 3",
   "language": "python",
   "name": "python3"
  },
  "language_info": {
   "codemirror_mode": {
    "name": "ipython",
    "version": 3
   },
   "file_extension": ".py",
   "mimetype": "text/x-python",
   "name": "python",
   "nbconvert_exporter": "python",
   "pygments_lexer": "ipython3",
   "version": "3.6.5"
  }
 },
 "nbformat": 4,
 "nbformat_minor": 2
}
